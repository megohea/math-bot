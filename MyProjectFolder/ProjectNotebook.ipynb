{
 "cells": [
  {
   "cell_type": "markdown",
   "metadata": {},
   "source": [
    "# Project Description"
   ]
  },
  {
   "cell_type": "markdown",
   "metadata": {},
   "source": [
    "This project is a chatbot that can perform calculations of addition, subtraction, division, and multiplication between two numbers. This is done by taking input from the user and converting that input into numbers, which may be manipulated to obtain answers. The chatbot responds to all messages, and specifically avoids errors in which would cause the program to crash. Inputs by the user are checked for non numeric values, and rejected if they are found. The chatbot also has an interest in dogs, and a fear in calculus in conversation.\n",
    "\n",
    "Essentially, the chatbot continuously runs until the user forces it to quit. The user then is able to input a message, which may be anything, but primarily for issuing commands to the chatbot like \"help\" and the mathematical operations. When issued a command for math, it will ask the user for an input. If the input is valid, a second one will be asked for. If both are valid, the chatbot will perform the specific operation and display the equation, and then is free to take more commands or chat.\n",
    "\n",
    "The chatbot is closed by typing 'quit' in the input box."
   ]
  },
  {
   "cell_type": "markdown",
   "metadata": {},
   "source": [
    "## Project Code\n",
    "\n",
    "If it makes sense for your project, you can have code and outputs here in the notebook as well."
   ]
  },
  {
   "cell_type": "code",
   "execution_count": 1,
   "metadata": {},
   "outputs": [],
   "source": [
    "from my_module import functions as fn\n",
    "import time\n",
    "import string\n",
    "import random\n",
    "import nltk"
   ]
  },
  {
   "cell_type": "code",
   "execution_count": 2,
   "metadata": {},
   "outputs": [],
   "source": [
    "fn.math_chat()"
   ]
  },
  {
   "cell_type": "code",
   "execution_count": null,
   "metadata": {},
   "outputs": [],
   "source": []
  }
 ],
 "metadata": {
  "kernelspec": {
   "display_name": "Python 3",
   "language": "python",
   "name": "python3"
  },
  "language_info": {
   "codemirror_mode": {
    "name": "ipython",
    "version": 3
   },
   "file_extension": ".py",
   "mimetype": "text/x-python",
   "name": "python",
   "nbconvert_exporter": "python",
   "pygments_lexer": "ipython3",
   "version": "3.6.7"
  }
 },
 "nbformat": 4,
 "nbformat_minor": 2
}
